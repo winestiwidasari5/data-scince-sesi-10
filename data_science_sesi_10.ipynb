{
  "nbformat": 4,
  "nbformat_minor": 0,
  "metadata": {
    "colab": {
      "provenance": []
    },
    "kernelspec": {
      "name": "python3",
      "display_name": "Python 3"
    },
    "language_info": {
      "name": "python"
    }
  },
  "cells": [
    {
      "cell_type": "code",
      "execution_count": 5,
      "metadata": {
        "id": "A9PzPbwD-4Fq"
      },
      "outputs": [],
      "source": [
        "# Import library yang dibutuhkan\n",
        "import pandas as pd\n",
        "from sklearn.model_selection import train_test_split\n",
        "from sklearn.preprocessing import LabelEncoder\n",
        "from sklearn.naive_bayes import GaussianNB\n",
        "from sklearn.metrics import accuracy_score, confusion_matrix\n",
        "import matplotlib.pyplot as plt\n",
        "import seaborn as sns\n"
      ]
    },
    {
      "cell_type": "code",
      "source": [
        "# Load dataset dari file Excel\n",
        "file_path = '/content/data.xlsx'\n",
        "\n",
        "# Pastikan file ada di lokasi yang sesuai\n",
        "df = pd.read_excel(file_path)\n",
        "\n",
        "# Tampilkan data untuk memastikan semuanya terbaca dengan benar\n",
        "print(df.head())\n"
      ],
      "metadata": {
        "colab": {
          "base_uri": "https://localhost:8080/"
        },
        "id": "dMzhGqh0Ar1Q",
        "outputId": "cc7fd7ba-e62b-4cd8-dd47-b63b494185bf"
      },
      "execution_count": 6,
      "outputs": [
        {
          "output_type": "stream",
          "name": "stdout",
          "text": [
            "   aturan_ke hargatanah(C1) jarakdaripusatkota(C2) adaangkutanumum(C3)  \\\n",
            "0          1          murah                  dekat               tidak   \n",
            "1          2         sedang                  dekat               tidak   \n",
            "2          3          mahal                  dekat               tidak   \n",
            "3          4          mahal                   jauh               tidak   \n",
            "4          5          mahal                 sedang               tidak   \n",
            "\n",
            "  dipilihanuntukperumahan(C4)  \n",
            "0                          ya  \n",
            "1                          ya  \n",
            "2                          ya  \n",
            "3                       tidak  \n",
            "4                       tidak  \n"
          ]
        }
      ]
    },
    {
      "cell_type": "code",
      "source": [
        "# Inisialisasi LabelEncoder\n",
        "ncoder = LabelEncoder()\n",
        "\n",
        "# Terapkan LabelEncoder ke semua kolom kategori\n",
        "encoded_df = df.apply(lambda col: ncoder.fit_transform(col) if col.dtypes == 'object' else col)\n",
        "\n",
        "# Tampilkan data yang sudah di-encode\n",
        "print(encoded_df.head())\n"
      ],
      "metadata": {
        "colab": {
          "base_uri": "https://localhost:8080/"
        },
        "id": "4_LZ7TPPBPxC",
        "outputId": "7232300b-2964-4e06-9c0d-32ca18fa44ad"
      },
      "execution_count": 10,
      "outputs": [
        {
          "output_type": "stream",
          "name": "stdout",
          "text": [
            "   aturan_ke  hargatanah(C1)  jarakdaripusatkota(C2)  adaangkutanumum(C3)  \\\n",
            "0          1               1                       0                    1   \n",
            "1          2               2                       0                    1   \n",
            "2          3               0                       0                    1   \n",
            "3          4               0                       1                    1   \n",
            "4          5               0                       2                    1   \n",
            "\n",
            "   dipilihanuntukperumahan(C4)  \n",
            "0                            1  \n",
            "1                            1  \n",
            "2                            1  \n",
            "3                            0  \n",
            "4                            0  \n"
          ]
        }
      ]
    },
    {
      "cell_type": "code",
      "source": [
        "# Pisahkan fitur (X) dan target (y)\n",
        "X = encoded_df.iloc[:, 1:-1]  # Semua kolom kecuali kolom pertama dan terakhir\n",
        "y = encoded_df.iloc[:, -1]   # Kolom terakhir sebagai target\n",
        "\n",
        "# Tampilkan dimensi data untuk verifikasi\n",
        "print(\"Dimensi X:\", X.shape)\n",
        "print(\"Dimensi y:\", y.shape)\n"
      ],
      "metadata": {
        "colab": {
          "base_uri": "https://localhost:8080/"
        },
        "id": "G9xvixUIBaHf",
        "outputId": "48ab8264-6f20-4309-8fe9-5363ead7ba4d"
      },
      "execution_count": 11,
      "outputs": [
        {
          "output_type": "stream",
          "name": "stdout",
          "text": [
            "Dimensi X: (10, 3)\n",
            "Dimensi y: (10,)\n"
          ]
        }
      ]
    },
    {
      "cell_type": "code",
      "source": [
        "# Bagi data menjadi train-test\n",
        "X_train, X_test, y_train, y_test = train_test_split(X, y, test_size=0.2, random_state=42)\n",
        "\n",
        "# Tampilkan dimensi dari setiap dataset\n",
        "print(\"Dimensi X_train:\", X_train.shape)\n",
        "print(\"Dimensi X_test:\", X_test.shape)\n",
        "print(\"Dimensi y_train:\", y_train.shape)\n",
        "print(\"Dimensi y_test:\", y_test.shape)\n"
      ],
      "metadata": {
        "colab": {
          "base_uri": "https://localhost:8080/"
        },
        "id": "94NoTi2vBdzK",
        "outputId": "a6313618-3ebb-449a-dd2c-e37a9f501024"
      },
      "execution_count": 12,
      "outputs": [
        {
          "output_type": "stream",
          "name": "stdout",
          "text": [
            "Dimensi X_train: (8, 3)\n",
            "Dimensi X_test: (2, 3)\n",
            "Dimensi y_train: (8,)\n",
            "Dimensi y_test: (2,)\n"
          ]
        }
      ]
    },
    {
      "cell_type": "code",
      "source": [
        "# Inisialisasi Gaussian Naive Bayes\n",
        "nb_classifier = GaussianNB()\n",
        "\n",
        "# Latih model\n",
        "nb_classifier.fit(X_train, y_train)\n",
        "\n",
        "# Tampilkan hasil pelatihan\n",
        "print(\"Model telah dilatih.\")\n"
      ],
      "metadata": {
        "colab": {
          "base_uri": "https://localhost:8080/"
        },
        "id": "EjOm2v6mBd_9",
        "outputId": "0f104237-7654-456d-d054-d79dc2e3bdc0"
      },
      "execution_count": 13,
      "outputs": [
        {
          "output_type": "stream",
          "name": "stdout",
          "text": [
            "Model telah dilatih.\n"
          ]
        }
      ]
    },
    {
      "cell_type": "code",
      "source": [
        "# Prediksi data testing\n",
        "y_pred = nb_classifier.predict(X_test)\n",
        "\n",
        "# Hitung akurasi\n",
        "accuracy = accuracy_score(y_test, y_pred)\n",
        "\n",
        "# Tampilkan hasil prediksi dan akurasi\n",
        "print(\"Labels Asli (y_test):\", y_test.values)\n",
        "print(\"Prediksi Model (y_pred):\", y_pred)\n",
        "print(\"Akurasi Model:\", accuracy)\n"
      ],
      "metadata": {
        "colab": {
          "base_uri": "https://localhost:8080/"
        },
        "id": "MYY2s-UdBla2",
        "outputId": "8db1a10b-06c9-4caa-ac17-c88e6d9190c8"
      },
      "execution_count": 14,
      "outputs": [
        {
          "output_type": "stream",
          "name": "stdout",
          "text": [
            "Labels Asli (y_test): [0 1]\n",
            "Prediksi Model (y_pred): [0 1]\n",
            "Akurasi Model: 1.0\n"
          ]
        }
      ]
    },
    {
      "cell_type": "code",
      "source": [
        "# Buat confusion matrix\n",
        "cm = confusion_matrix(y_test, y_pred)\n",
        "\n",
        "# Visualisasikan confusion matrix\n",
        "plt.figure(figsize=(6, 4))\n",
        "sns.heatmap(cm, annot=True, fmt='d', cmap='Blues', xticklabels=y.unique(), yticklabels=y.unique())\n",
        "plt.title(\"Confusion Matrix\")\n",
        "plt.xlabel(\"Predicted Label\")\n",
        "plt.ylabel(\"True Label\")\n",
        "plt.show()\n"
      ],
      "metadata": {
        "colab": {
          "base_uri": "https://localhost:8080/",
          "height": 410
        },
        "id": "jvkKYArlBpM5",
        "outputId": "e0622cc8-faf6-4e7e-d63a-ad887dc69365"
      },
      "execution_count": 15,
      "outputs": [
        {
          "output_type": "display_data",
          "data": {
            "text/plain": [
              "<Figure size 600x400 with 2 Axes>"
            ],
            "image/png": "[encoded data removed]"
          },
          "metadata": {}
        }
      ]
    },
    {
      "cell_type": "code",
      "source": [
        "# Hitung feature importance\n",
        "feature_importance = abs(nb_classifier.theta_[1] - nb_classifier.theta_[0])\n",
        "feature_names = X.columns\n",
        "\n",
        "# Visualisasikan feature importance\n",
        "plt.figure(figsize=(8, 4))\n",
        "sns.barplot(x=feature_importance, y=feature_names, palette='viridis')\n",
        "plt.title(\"Feature Importance\")\n",
        "plt.xlabel(\"Importance\")\n",
        "plt.ylabel(\"Features\")\n",
        "plt.show()\n"
      ],
      "metadata": {
        "colab": {
          "base_uri": "https://localhost:8080/",
          "height": 420
        },
        "id": "oCplG2mFBtha",
        "outputId": "28f0301f-c63a-4c30-96a7-40d0287bba05"
      },
      "execution_count": 16,
      "outputs": [
        {
          "output_type": "stream",
          "name": "stderr",
          "text": [
            "<ipython-input-16-949c679cf11e>:7: FutureWarning: \n",
            "\n",
            "Passing `palette` without assigning `hue` is deprecated and will be removed in v0.14.0. Assign the `y` variable to `hue` and set `legend=False` for the same effect.\n",
            "\n",
            "  sns.barplot(x=feature_importance, y=feature_names, palette='viridis')\n"
          ]
        },
        {
          "output_type": "display_data",
          "data": {
            "text/plain": [
              "<Figure size 800x400 with 1 Axes>"
            ],
            "image/png": "[encoded data removed]"
          },
          "metadata": {}
        }
      ]
    }
  ]
}